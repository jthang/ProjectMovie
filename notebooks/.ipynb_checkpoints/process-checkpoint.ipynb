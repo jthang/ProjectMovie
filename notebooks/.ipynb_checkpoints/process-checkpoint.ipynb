{
 "metadata": {
  "name": "",
  "signature": "sha256:8ac87fde60b43939ca149d6cb9a9f833df49d7dcd2e5334063aaf8f0f0515a6c"
 },
 "nbformat": 3,
 "nbformat_minor": 0,
 "worksheets": [
  {
   "cells": [
    {
     "cell_type": "code",
     "collapsed": false,
     "input": [
      "%matplotlib inline\n",
      "import json\n",
      "import pandas as pd\n",
      "import numpy as np\n",
      "import matplotlib.pyplot as plt\n",
      "from ggplot import *\n",
      "\n",
      "from sklearn.cross_validation import train_test_split\n",
      "from sklearn.cross_validation import KFold\n",
      "from sklearn.feature_extraction.text import CountVectorizer\n",
      "from sklearn.naive_bayes import BernoulliNB, MultinomialNB\n",
      "from sklearn.svm import SVC\n",
      "from sklearn.neighbors import KNeighborsClassifier\n",
      "from sklearn.ensemble import RandomForestClassifier\n",
      "from sklearn.metrics import roc_curve\n",
      "\n",
      "from sklearn.feature_extraction.text import HashingVectorizer"
     ],
     "language": "python",
     "metadata": {},
     "outputs": [],
     "prompt_number": 10
    },
    {
     "cell_type": "code",
     "collapsed": false,
     "input": [
      "# movies = pd.read_csv('../data/movies.dat', delimiter='\\t')\n",
      "df = pd.read_csv('../data/critics.csv')"
     ],
     "language": "python",
     "metadata": {},
     "outputs": [],
     "prompt_number": 11
    },
    {
     "cell_type": "code",
     "collapsed": false,
     "input": [
      "rows = np.random.choice(df.index.values, 10)\n",
      "sampled_df = df.ix[rows]"
     ],
     "language": "python",
     "metadata": {},
     "outputs": [],
     "prompt_number": 4
    },
    {
     "cell_type": "code",
     "collapsed": false,
     "input": [
      "sampled_df.shape"
     ],
     "language": "python",
     "metadata": {},
     "outputs": [
      {
       "metadata": {},
       "output_type": "pyout",
       "prompt_number": 5,
       "text": [
        "(10, 10)"
       ]
      }
     ],
     "prompt_number": 5
    },
    {
     "cell_type": "code",
     "collapsed": false,
     "input": [
      "X = CountVectorizer().fit_transform(df.quote)\n",
      "X = X.tocsc()\n",
      "Y = (df.fresh == 'fresh').values.astype(np.int)"
     ],
     "language": "python",
     "metadata": {},
     "outputs": [],
     "prompt_number": 6
    },
    {
     "cell_type": "code",
     "collapsed": false,
     "input": [
      "xtrain, xtest, ytrain, ytest = train_test_split(X, Y)\n",
      "\n",
      "print xtrain.shape\n",
      "print ytrain.shape"
     ],
     "language": "python",
     "metadata": {},
     "outputs": [
      {
       "output_type": "stream",
       "stream": "stdout",
       "text": [
        "(11707, 22464)\n",
        "(11707,)\n"
       ]
      }
     ],
     "prompt_number": 7
    },
    {
     "cell_type": "code",
     "collapsed": false,
     "input": [
      "clfs = [\n",
      "#     (\"MultinomialNB\", MultinomialNB()),\n",
      "#     (\"BernoulliNB\", BernoulliNB()),\n",
      "#     (\"KNeighborsClassifier\", KNeighborsClassifier()) X\n",
      "    (\"RandomForestClassifier\", RandomForestClassifier())\n",
      "#     (\"SVM\", SVC(probability=True))\n",
      "]"
     ],
     "language": "python",
     "metadata": {},
     "outputs": [],
     "prompt_number": 8
    },
    {
     "cell_type": "code",
     "collapsed": false,
     "input": [
      "all_results = None\n",
      "for name, clf in clfs:\n",
      "    clf.fit(xtrain.todense(), ytrain)\n",
      "    probs = clf.predict_proba(xtest.todense())[:,1]\n",
      "    fpr, tpr, thresh = roc_curve(ytest, probs)\n",
      "    results = pd.DataFrame({\n",
      "        \"name\": name,\n",
      "        \"fpr\": fpr,\n",
      "        \"tpr\": tpr\n",
      "    })\n",
      "    if all_results is None:\n",
      "        all_results = results\n",
      "    else:\n",
      "        all_results = all_results.append(results)\n",
      "\n",
      "ggplot(aes(x='fpr', y='tpr', color='name'), data=all_results) + \\\n",
      "    geom_step() + \\\n",
      "    geom_abline(color=\"black\") + \\\n",
      "    ggtitle(\"Benchmark\")"
     ],
     "language": "python",
     "metadata": {},
     "outputs": [
      {
       "metadata": {},
       "output_type": "display_data",
       "png": "[encoded data removed]",
       "text": [
        "<matplotlib.figure.Figure at 0x104559cd0>"
       ]
      },
      {
       "metadata": {},
       "output_type": "pyout",
       "prompt_number": 9,
       "text": [
        "<ggplot: (279279477)>"
       ]
      }
     ],
     "prompt_number": 9
    },
    {
     "cell_type": "code",
     "collapsed": false,
     "input": [],
     "language": "python",
     "metadata": {},
     "outputs": []
    },
    {
     "cell_type": "code",
     "collapsed": false,
     "input": [],
     "language": "python",
     "metadata": {},
     "outputs": []
    },
    {
     "cell_type": "code",
     "collapsed": false,
     "input": [],
     "language": "python",
     "metadata": {},
     "outputs": []
    },
    {
     "cell_type": "code",
     "collapsed": false,
     "input": [],
     "language": "python",
     "metadata": {},
     "outputs": []
    },
    {
     "cell_type": "code",
     "collapsed": false,
     "input": [
      "def make_xy(df, vectorizer=None):\n",
      "    if vectorizer is None:\n",
      "        vectorizer = CountVectorizer()\n",
      "    X = vectorizer.fit_transform(df.quote)\n",
      "    X = X.tocsc()\n",
      "    Y = (df.fresh == 'fresh').values.astype(np.int)\n",
      "    return X, Y\n",
      "\n",
      "def log_likelihood(clf, x, y):\n",
      "    prob = clf.predict_log_proba(x)\n",
      "    rotten = y == 0\n",
      "    fresh = ~rotten\n",
      "    return prob[rotten, 0].sum() + prob[fresh, 1].sum()\n",
      "\n",
      "def cv_score(clf, x, y, score_func):\n",
      "    result = 0\n",
      "    nfold = 5\n",
      "    for train, test in KFold(y.size, nfold):\n",
      "        clf.fit(x[train], y[train])\n",
      "        result += score_func(clf, x[test], y[test]) \n",
      "    return result / nfold\n",
      "\n",
      "alphas = [0, .1, 1, 5, 10, 50]\n",
      "min_dfs = [1e-5, 1e-4, 1e-3, 1e-2, 1e-1]\n",
      "\n",
      "best_alpha = None\n",
      "best_min_df = None\n",
      "max_loglike = -np.inf\n",
      "\n",
      "for alpha in alphas:\n",
      "    for min_df in min_dfs:         \n",
      "        vectorizer = CountVectorizer(min_df = min_df)       \n",
      "        X, Y = make_xy(df, vectorizer)\n",
      "        clf = MultinomialNB(alpha=alpha)\n",
      "        loglike = cv_score(clf, X, Y, log_likelihood)\n",
      "\n",
      "        if loglike > max_loglike:\n",
      "            max_loglike = loglike\n",
      "            best_alpha, best_min_df = alpha, min_df\n",
      "\n",
      "print best_alpha, best_min_df"
     ],
     "language": "python",
     "metadata": {},
     "outputs": [
      {
       "output_type": "stream",
       "stream": "stdout",
       "text": [
        "5 0.001\n"
       ]
      }
     ],
     "prompt_number": 12
    },
    {
     "cell_type": "code",
     "collapsed": false,
     "input": [],
     "language": "python",
     "metadata": {},
     "outputs": []
    },
    {
     "cell_type": "code",
     "collapsed": false,
     "input": [
      "X, Y = make_xy(df, vectorizer)\n",
      "xtrain, xtest, ytrain, ytest = train_test_split(X, Y)\n",
      "\n",
      "clf = MultinomialNB(alpha=best_alpha).fit(xtrain, ytrain)\n",
      "\n",
      "new_review = ['this is a new review, movie was awesome']\n",
      "new_review = vectorizer.fit_transform(p)\n",
      "\n",
      "print df.quote[15]\n",
      "print(clf.predict(df.quote[10]))\n",
      "print(clf.predict(p))"
     ],
     "language": "python",
     "metadata": {},
     "outputs": []
    },
    {
     "cell_type": "code",
     "collapsed": false,
     "input": [
      "df = pd.read_csv('../data/critics.csv')"
     ],
     "language": "python",
     "metadata": {},
     "outputs": [],
     "prompt_number": 13
    },
    {
     "cell_type": "code",
     "collapsed": false,
     "input": [
      "from sklearn.feature_extraction.text import CountVectorizer\n",
      "from sklearn.cross_validation import train_test_split\n",
      "from sklearn.naive_bayes import MultinomialNB\n",
      "\n",
      "X = vectorizer.fit_transform(df.quote)\n",
      "X = X.tocsc()\n",
      "Y = (df.fresh == 'fresh').values.astype(np.int)\n",
      "\n",
      "xtrain, xtest, ytrain, ytest = train_test_split(X, Y)\n",
      "\n",
      "clf = MultinomialNB().fit(xtrain, ytrain)\n",
      "\n",
      "new_review = ['bad']\n",
      "new_review = vectorizer.transform(new_review)\n",
      "new_review = new_review.tocsc()\n",
      "\n",
      "# print df.quote[500]\n",
      "# print(clf.predict(X[:, :])) #predict existing quote in dataframe\n",
      "\n",
      "print(clf.predict(new_review)) #predict new review\n",
      "print(clf.predict(X[10, :]))"
     ],
     "language": "python",
     "metadata": {},
     "outputs": [
      {
       "output_type": "stream",
       "stream": "stdout",
       "text": [
        "[1]\n",
        "[1]\n"
       ]
      }
     ],
     "prompt_number": 61
    },
    {
     "cell_type": "code",
     "collapsed": false,
     "input": [
      "import numpy\n",
      "numpy.set_printoptions(threshold=numpy.nan)\n",
      "numpy.set_printoptions(threshold='nan')\n",
      "\n",
      "print df.quote[17]\n",
      "predict = clf.predict(X[16, :])\n",
      "predict"
     ],
     "language": "python",
     "metadata": {},
     "outputs": [
      {
       "output_type": "stream",
       "stream": "stdout",
       "text": [
        "I can hardly imagine having more fun at the movies than I did at Toy Story, the miraculous new Disney feature that's the first full-length animated film to be produced entirely on computer.\n"
       ]
      },
      {
       "metadata": {},
       "output_type": "pyout",
       "prompt_number": 42,
       "text": [
        "array([0])"
       ]
      }
     ],
     "prompt_number": 42
    },
    {
     "cell_type": "code",
     "collapsed": false,
     "input": [],
     "language": "python",
     "metadata": {},
     "outputs": []
    },
    {
     "cell_type": "code",
     "collapsed": false,
     "input": [],
     "language": "python",
     "metadata": {},
     "outputs": []
    },
    {
     "cell_type": "code",
     "collapsed": false,
     "input": [],
     "language": "python",
     "metadata": {},
     "outputs": []
    },
    {
     "cell_type": "code",
     "collapsed": false,
     "input": [],
     "language": "python",
     "metadata": {},
     "outputs": []
    },
    {
     "cell_type": "code",
     "collapsed": false,
     "input": [],
     "language": "python",
     "metadata": {},
     "outputs": []
    },
    {
     "cell_type": "code",
     "collapsed": false,
     "input": [],
     "language": "python",
     "metadata": {},
     "outputs": []
    }
   ],
   "metadata": {}
  }
 ]
}